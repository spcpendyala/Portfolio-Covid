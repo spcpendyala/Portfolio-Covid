{
 "cells": [
  {
   "cell_type": "markdown",
   "id": "98886235-0970-4d28-b7a5-181b8e5b278c",
   "metadata": {},
   "source": [
    "# Automated file sorter in Finder"
   ]
  },
  {
   "cell_type": "code",
   "execution_count": 28,
   "id": "5220566b-28fb-4aa9-b9ee-ef61f7633ea9",
   "metadata": {},
   "outputs": [],
   "source": [
    "import os"
   ]
  },
  {
   "cell_type": "code",
   "execution_count": 30,
   "id": "8343b7b4-2d6e-4470-bfe0-b397792a3860",
   "metadata": {},
   "outputs": [],
   "source": [
    "import shutil"
   ]
  },
  {
   "cell_type": "code",
   "execution_count": 32,
   "id": "e3025a95-8619-4629-af94-e9e03d2f96d8",
   "metadata": {},
   "outputs": [],
   "source": [
    "# Define the base path\n",
    "\n",
    "path ='/Users/Prudhvi/Downloads/'\n",
    "folder_names = ['Python Files' , 'pdf files' , 'excel files' , 'csv files' , 'zip files' , 'image file', 'word files']"
   ]
  },
  {
   "cell_type": "code",
   "execution_count": 133,
   "id": "149b953f-cd57-4873-b150-5e4e35353d9a",
   "metadata": {},
   "outputs": [
    {
     "name": "stdout",
     "output_type": "stream",
     "text": [
      "Skipping file_name: Powder Room Ceiling.jpeg (no matching category)\n",
      "Skipping file_name: .DS_Store (no matching category)\n",
      "Skipping file_name: 81cf3180-6d4d-4243-b580-f60585b710f4.JPG (no matching category)\n",
      "Skipping file_name: .localized (no matching category)\n",
      "Skipping file_name: Powderroom2.png (no matching category)\n",
      "Skipping file_name: powder room.HEIC (no matching category)\n",
      "Skipping file_name: Suraksha's Email SS.jpeg (no matching category)\n",
      "Skipping file_name: Powderroom2.HEIC (no matching category)\n",
      "Skipping file_name: powder room1.png (no matching category)\n",
      "Skipping file_name: sccReply- saved.dat (no matching category)\n",
      "Skipping file_name: efile_ex.exe (no matching category)\n",
      "File already exists at destination: /Users/Prudhvi/Downloads/word files/csv files\n",
      "File organization completed.\n"
     ]
    }
   ],
   "source": [
    "# Create directories if they don't exist\n",
    "for folder in folder_names:\n",
    "    folder_path = os.path.join(path, folder)\n",
    "    if not os.path.exists(folder_path):\n",
    "        os.makedirs(folder_path)\n",
    "\n",
    "# List all files in the base path\n",
    "file_names = os.listdir(path)\n",
    "\n",
    "# Move files to respective directories\n",
    "for file_name in file_names:\n",
    "    src = os.path.join(path, file_name)\n",
    "\n",
    "# Skip directories\n",
    "    if os.path.isdir(src):\n",
    "        continue\n",
    "        \n",
    "#destination directory    \n",
    "    if file_name.endswith(\".csv\"):\n",
    "        dst_folder = 'csv files'\n",
    "    elif file_name.endswith(\".pdf\"):\n",
    "        dst_folder = 'pdf files'\n",
    "    elif file_name.endswith(\".ipynb\"):\n",
    "        dst_folder = 'Python files'\n",
    "    elif file_name.endswith(\".xlsx\") or file_name.endswith(\".xls\"):\n",
    "        dst_folder = 'excel files'\n",
    "    elif file_name.endswith(\".zip\"):\n",
    "        dst_folder = 'zip files'\n",
    "    elif file_name.endswith(\".doc\") or file_name.endswith(\".docx\"):\n",
    "        dst_folder = 'word files'\n",
    "    elif file_name.endswith((\".jpg\") or file_name.endswith(\".jpeg\") or file_name.endswith(\".png\")or file_name.endswith(\".gif\")):\n",
    "        dst_folder = 'image file'\n",
    "    else:\n",
    "        print(f\"Skipping file_name: {file_name} (no matching category)\")\n",
    "        continue\n",
    "        \n",
    "dst = os.path.join(path, dst_folder, file_name)\n",
    "\n",
    "# Ensure the destination directory exists\n",
    "if not os.path.exists(os.path.dirname(dst)):\n",
    "        os.makedirs(os.path.dirname(dst))\n",
    "\n",
    "# Move the file\n",
    "if not os.path.exists(dst):\n",
    "        print(f\"Moving file: {src} to {dst}\")\n",
    "        shutil.move(src, dst)\n",
    "else:\n",
    "    print(f\"File already exists at destination: {dst}\")\n",
    "\n",
    "# After processing, print a summary\n",
    "print(\"File organization completed.\")"
   ]
  },
  {
   "cell_type": "code",
   "execution_count": null,
   "id": "88fe95e3-9c9e-45c4-92f4-f41322a59019",
   "metadata": {},
   "outputs": [],
   "source": []
  },
  {
   "cell_type": "code",
   "execution_count": null,
   "id": "343bfe4f-b233-4efd-8bb8-253721fab441",
   "metadata": {},
   "outputs": [],
   "source": []
  }
 ],
 "metadata": {
  "kernelspec": {
   "display_name": "Python 3 (ipykernel)",
   "language": "python",
   "name": "python3"
  },
  "language_info": {
   "codemirror_mode": {
    "name": "ipython",
    "version": 3
   },
   "file_extension": ".py",
   "mimetype": "text/x-python",
   "name": "python",
   "nbconvert_exporter": "python",
   "pygments_lexer": "ipython3",
   "version": "3.11.4"
  }
 },
 "nbformat": 4,
 "nbformat_minor": 5
}
