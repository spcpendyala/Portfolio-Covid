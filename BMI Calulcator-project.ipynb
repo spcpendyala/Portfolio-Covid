{
 "cells": [
  {
   "cell_type": "markdown",
   "id": "faa01669-abe1-41f1-96ab-7493cc853a24",
   "metadata": {},
   "source": [
    "# BMI Caluclator "
   ]
  },
  {
   "cell_type": "code",
   "execution_count": 41,
   "id": "7ed9a8c3-6e88-4ad4-86fa-ee5e4997e38f",
   "metadata": {},
   "outputs": [
    {
     "name": "stdin",
     "output_type": "stream",
     "text": [
      "Enter your Name:  Sai\n",
      "Enter your weight in lbs:  198\n",
      "Enter your height in inches:  68\n"
     ]
    },
    {
     "name": "stdout",
     "output_type": "stream",
     "text": [
      "30.10250865051903\n",
      "Sai, you are obese.\n"
     ]
    }
   ],
   "source": [
    "name = input(\"Enter your Name: \")\n",
    "\n",
    "weight = int(input(\"Enter your weight in lbs: \"))\n",
    "\n",
    "height = int(input(\"Enter your height in inches: \"))\n",
    "\n",
    "BMI = (weight * 703) / (height * height)\n",
    "\n",
    "print(BMI)\n",
    "\n",
    "if BMI>0:\n",
    "    if (BMI<18.5):\n",
    "        print(name+ \", you are underweight.\")\n",
    "    elif (BMI<=24.9):\n",
    "        print(name+ \", you are normal weight.\")\n",
    "    elif (BMI<=29.9):\n",
    "         print(name+ \", you are over weight.\")\n",
    "    elif (BMI<=34.9):\n",
    "        print(name+ \", you are obese.\")\n",
    "    elif (BMI<=39.9):\n",
    "        print(name+ \", you are severely obese.\")\n",
    "    elif (BMI>40):\n",
    "        print(name+ \", you are extremely obese.\")\n",
    "    else:\n",
    "        print(\"Enter valid input\")"
   ]
  },
  {
   "cell_type": "code",
   "execution_count": 5,
   "id": "be06b994-3793-428a-a502-1a2e80ab2a8e",
   "metadata": {},
   "outputs": [],
   "source": [
    "# BMI = (weight in pounds * 703) / (height in inches * height in inches)"
   ]
  },
  {
   "cell_type": "code",
   "execution_count": 30,
   "id": "42691fe8-380a-4168-80e9-4c3b8be3b347",
   "metadata": {},
   "outputs": [
    {
     "name": "stdout",
     "output_type": "stream",
     "text": [
      "198\n"
     ]
    }
   ],
   "source": [
    "print(weight)"
   ]
  },
  {
   "cell_type": "code",
   "execution_count": null,
   "id": "547474ac-5d61-4049-baaa-4a440f56c564",
   "metadata": {},
   "outputs": [],
   "source": [
    "Under 18.5\tUnderweight\tMinimal\n",
    "18.5 - 24.9\tNormal Weight\tMinimal\n",
    "25 - 29.9\tOverweight\tIncreased\n",
    "30 - 34.9\tObese\tHigh\n",
    "35 - 39.9\tSeverely Obese\tVery High\n",
    "40 and over\tMorbidly Obese\tExtremely High"
   ]
  },
  {
   "cell_type": "code",
   "execution_count": 43,
   "id": "82b9473e-1c80-48fe-8c15-2576add777c0",
   "metadata": {},
   "outputs": [
    {
     "name": "stdout",
     "output_type": "stream",
     "text": [
      "Sai, you are obese.\n"
     ]
    }
   ],
   "source": [
    "if BMI>0:\n",
    "    if (BMI<18.5):\n",
    "        print(name+ \", you are underweight.\")\n",
    "    elif (BMI<=24.9):\n",
    "        print(name+ \", you are normal weight.\")\n",
    "    elif (BMI<=29.9):\n",
    "         print(name+ \", you are over weight.\")\n",
    "    elif (BMI<=34.9):\n",
    "        print(name+ \", you are obese.\")\n",
    "    elif (BMI<=39.9):\n",
    "        print(name+ \", you are severely obese.\")\n",
    "    elif (BMI>40):\n",
    "        print(name+ \", you are extremely obese.\")\n",
    "    else:\n",
    "        print(\"Enter valid input\")\n",
    "    "
   ]
  },
  {
   "cell_type": "code",
   "execution_count": null,
   "id": "d8692f7f-b9ac-4a38-ac1e-bf4dc783ee73",
   "metadata": {},
   "outputs": [],
   "source": []
  }
 ],
 "metadata": {
  "kernelspec": {
   "display_name": "Python 3 (ipykernel)",
   "language": "python",
   "name": "python3"
  },
  "language_info": {
   "codemirror_mode": {
    "name": "ipython",
    "version": 3
   },
   "file_extension": ".py",
   "mimetype": "text/x-python",
   "name": "python",
   "nbconvert_exporter": "python",
   "pygments_lexer": "ipython3",
   "version": "3.11.4"
  }
 },
 "nbformat": 4,
 "nbformat_minor": 5
}
